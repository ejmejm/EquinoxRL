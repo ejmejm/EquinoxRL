{
 "cells": [
  {
   "cell_type": "code",
   "execution_count": 11,
   "metadata": {},
   "outputs": [],
   "source": [
    "import jax\n",
    "import equinox as eqx\n",
    "import jax.numpy as jnp\n"
   ]
  },
  {
   "cell_type": "code",
   "execution_count": 41,
   "metadata": {},
   "outputs": [],
   "source": [
    "class Test(eqx.Module):\n",
    "    a: jax.Array\n",
    "    \n",
    "    def __init__(self):\n",
    "        self.a = jnp.array(1)\n",
    "\n",
    "    def __call__(self, x):\n",
    "        return x + self.a\n",
    "    \n",
    "    def add_double(self, x):\n",
    "        return x + self.a * 2\n",
    "    \n",
    "test = Test()\n",
    "test(5)\n",
    "\n",
    "vmap_test = jax.vmap(test.__call__)\n",
    "jit_test = jax.jit(test.__call__)"
   ]
  },
  {
   "cell_type": "code",
   "execution_count": 58,
   "metadata": {},
   "outputs": [
    {
     "data": {
      "text/plain": [
       "15"
      ]
     },
     "execution_count": 58,
     "metadata": {},
     "output_type": "execute_result"
    }
   ],
   "source": [
    "test_2 = Test()\n",
    "test_2 = eqx.tree_at(lambda x: x.a, test_2, 10)\n",
    "\n",
    "type(test).__call__(test_2, 5)"
   ]
  },
  {
   "cell_type": "code",
   "execution_count": 42,
   "metadata": {},
   "outputs": [
    {
     "data": {
      "text/plain": [
       "<PjitFunction of <bound method Test.__call__ of Test(a=i32[])>>"
      ]
     },
     "execution_count": 42,
     "metadata": {},
     "output_type": "execute_result"
    }
   ],
   "source": [
    "jit_test"
   ]
  },
  {
   "cell_type": "code",
   "execution_count": 39,
   "metadata": {},
   "outputs": [],
   "source": [
    "vmap_test = jax.vmap(test.__call__)"
   ]
  },
  {
   "cell_type": "code",
   "execution_count": 54,
   "metadata": {},
   "outputs": [
    {
     "data": {
      "text/plain": [
       "Array(6, dtype=int32, weak_type=True)"
      ]
     },
     "execution_count": 54,
     "metadata": {},
     "output_type": "execute_result"
    }
   ],
   "source": [
    "jit_test(5)"
   ]
  },
  {
   "cell_type": "code",
   "execution_count": 51,
   "metadata": {},
   "outputs": [],
   "source": [
    "test = eqx.tree_at(lambda x: x.a, test, test.a + 1)"
   ]
  },
  {
   "cell_type": "code",
   "execution_count": 40,
   "metadata": {},
   "outputs": [
    {
     "data": {
      "text/plain": [
       "Array([ 8, 10], dtype=int32)"
      ]
     },
     "execution_count": 40,
     "metadata": {},
     "output_type": "execute_result"
    }
   ],
   "source": [
    "vmap_test(jnp.array([5, 7]))"
   ]
  },
  {
   "cell_type": "code",
   "execution_count": 1,
   "metadata": {},
   "outputs": [
    {
     "name": "stderr",
     "output_type": "stream",
     "text": [
      "/home/edan/miniconda3/envs/jax/lib/python3.10/site-packages/tqdm/auto.py:21: TqdmWarning: IProgress not found. Please update jupyter and ipywidgets. See https://ipywidgets.readthedocs.io/en/stable/user_install.html\n",
      "  from .autonotebook import tqdm as notebook_tqdm\n",
      "2024-08-15 22:44:17.837509: W external/xla/xla/service/gpu/nvptx_compiler.cc:836] The NVIDIA driver's CUDA version is 12.4 which is older than the PTX compiler version (12.6.20). Because the driver is older than the PTX compiler version, XLA is disabling parallel compilation, which may slow down compilation. You should update your NVIDIA driver or use the NVIDIA-provided CUDA forward compatibility packages.\n"
     ]
    }
   ],
   "source": [
    "import jax\n",
    "import matplotlib.pyplot as plt\n",
    "import xminigrid\n",
    "from xminigrid.wrappers import DmEnvAutoResetWrapper, GymAutoResetWrapper\n",
    "from xminigrid.experimental.img_obs import RGBImgObservationWrapper"
   ]
  },
  {
   "cell_type": "code",
   "execution_count": 9,
   "metadata": {},
   "outputs": [
    {
     "data": {
      "text/plain": [
       "<matplotlib.image.AxesImage at 0x7f706c2a6680>"
      ]
     },
     "execution_count": 9,
     "metadata": {},
     "output_type": "execute_result"
    },
    {
     "data": {
      "image/png": "[encoded data removed]",
      "text/plain": [
       "<Figure size 640x480 with 1 Axes>"
      ]
     },
     "metadata": {},
     "output_type": "display_data"
    }
   ],
   "source": [
    "key = jax.random.key(0)\n",
    "reset_key, ruleset_key = jax.random.split(key)\n",
    "\n",
    "# to list available environments: xminigrid.registered_environments()\n",
    "env, env_params = xminigrid.make('MiniGrid-Empty-6x6')\n",
    "# env_params = env_params.replace(view_size=4)\n",
    "\n",
    "# auto-reset wrapper\n",
    "env = DmEnvAutoResetWrapper(env)\n",
    "env = RGBImgObservationWrapper(env)\n",
    "\n",
    "reset_fn = jax.jit(env.reset)\n",
    "step_fn = jax.jit(env.step)\n",
    "\n",
    "# fully jit-compatible step and reset methods\n",
    "env_state = reset_fn(env_params, reset_key)\n",
    "env_state = step_fn(env_params, env_state, action=0)\n",
    "\n",
    "plt.imshow(env_state.observation[::4, ::4])"
   ]
  },
  {
   "cell_type": "code",
   "execution_count": 17,
   "metadata": {},
   "outputs": [
    {
     "data": {
      "text/plain": [
       "6"
      ]
     },
     "execution_count": 17,
     "metadata": {},
     "output_type": "execute_result"
    }
   ],
   "source": [
    "# env, env_params = xminigrid.make('MiniGrid-Empty-6x6')\n",
    "\n",
    "env.num_actions(env_params)"
   ]
  },
  {
   "cell_type": "code",
   "execution_count": 8,
   "metadata": {},
   "outputs": [
    {
     "data": {
      "text/plain": [
       "6"
      ]
     },
     "execution_count": 8,
     "metadata": {},
     "output_type": "execute_result"
    }
   ],
   "source": [
    "# env.observation_shape(env_params)\n",
    "env.num_actions(env_params)"
   ]
  },
  {
   "cell_type": "code",
   "execution_count": 24,
   "metadata": {},
   "outputs": [
    {
     "name": "stdout",
     "output_type": "stream",
     "text": [
      "False\n"
     ]
    },
    {
     "data": {
      "image/png": "[encoded data removed]",
      "text/plain": [
       "<Figure size 640x480 with 1 Axes>"
      ]
     },
     "metadata": {},
     "output_type": "display_data"
    }
   ],
   "source": [
    "for _ in range(1):\n",
    "    env_state = step_fn(env_params, env_state, action=0)\n",
    "plt.imshow(env_state.observation[::4, ::4])\n",
    "print(env_state.last())"
   ]
  },
  {
   "cell_type": "code",
   "execution_count": 18,
   "metadata": {},
   "outputs": [
    {
     "data": {
      "text/plain": [
       "(56, 56, 3)"
      ]
     },
     "execution_count": 18,
     "metadata": {},
     "output_type": "execute_result"
    }
   ],
   "source": [
    "env_state.observation[::4, ::4].shape"
   ]
  },
  {
   "cell_type": "code",
   "execution_count": 4,
   "metadata": {},
   "outputs": [
    {
     "data": {
      "text/plain": [
       "(192, 192, 3)"
      ]
     },
     "execution_count": 4,
     "metadata": {},
     "output_type": "execute_result"
    }
   ],
   "source": [
    "\n",
    "# optionally render the state\n",
    "env.render(env_params, env_state).shape"
   ]
  }
 ],
 "metadata": {
  "kernelspec": {
   "display_name": "discovery",
   "language": "python",
   "name": "python3"
  },
  "language_info": {
   "codemirror_mode": {
    "name": "ipython",
    "version": 3
   },
   "file_extension": ".py",
   "mimetype": "text/x-python",
   "name": "python",
   "nbconvert_exporter": "python",
   "pygments_lexer": "ipython3",
   "version": "3.10.14"
  }
 },
 "nbformat": 4,
 "nbformat_minor": 2
}
